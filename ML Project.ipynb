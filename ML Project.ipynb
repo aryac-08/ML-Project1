{
  "nbformat": 4,
  "nbformat_minor": 0,
  "metadata": {
    "colab": {
      "provenance": []
    },
    "kernelspec": {
      "name": "python3",
      "display_name": "Python 3"
    },
    "language_info": {
      "name": "python"
    }
  },
  "cells": [
    {
      "cell_type": "code",
      "execution_count": null,
      "metadata": {
        "collapsed": true,
        "id": "poNFyc7NzAR8"
      },
      "outputs": [],
      "source": [
        "#data handling\n",
        "import pandas as pd\n",
        "import numpy as np\n",
        "\n",
        "#data visualization\n",
        "import matplotlib.pyplot as plt\n",
        "import seaborn as sns\n",
        "import sklearn\n",
        "\n",
        "#preprocessing\n",
        "from sklearn.model_selection import train_test_split\n",
        "from sklearn.preprocessing import LabelEncoder\n",
        "from sklearn.preprocessing import label_binarize\n",
        "from sklearn.preprocessing import MinMaxScaler\n",
        "\n",
        "#feature selection\n",
        "from sklearn.feature_selection import mutual_info_classif\n",
        "\n",
        "#classification\n",
        "from sklearn.multiclass import OneVsRestClassifier\n",
        "from sklearn.ensemble import RandomForestClassifier\n",
        "\n",
        "# performance metrics\n",
        "from sklearn.metrics import balanced_accuracy_score,f1_score,precision_score, recall_score\n",
        "from sklearn.metrics import classification_report\n",
        "from sklearn.metrics import confusion_matrix\n",
        "#from sklearn.metrics import plot_confusion_matrix\n",
        "from sklearn.metrics import roc_curve,auc\n",
        "from sklearn.metrics import roc_auc_score\n",
        "from sklearn.metrics import ConfusionMatrixDisplay\n"
      ]
    },
    {
      "cell_type": "code",
      "source": [
        "print(roc_curve)"
      ],
      "metadata": {
        "colab": {
          "base_uri": "https://localhost:8080/"
        },
        "id": "ssSVSIxP7kom",
        "outputId": "d3ee15c0-899f-4e34-e782-5dcc18a09db8"
      },
      "execution_count": null,
      "outputs": [
        {
          "output_type": "stream",
          "name": "stdout",
          "text": [
            "<function roc_curve at 0x7dad49f88430>\n"
          ]
        }
      ]
    },
    {
      "cell_type": "code",
      "source": [
        "#read data directly from a github repository\n",
        "\n",
        "file_url='https://github.com/aryac-08/ML-Project1/raw/main/cancer_gene_expression%20(1).zip'\n",
        "\n",
        "dataframe=pd.read_csv(file_url)"
      ],
      "metadata": {
        "id": "1y0RxYR_zFAp"
      },
      "execution_count": null,
      "outputs": []
    },
    {
      "cell_type": "code",
      "source": [
        "#let's check the number of samples and features\n",
        "#note:the last column contain the labels. it is not considered as a feature\n",
        "\n",
        "print(dataframe.shape)"
      ],
      "metadata": {
        "colab": {
          "base_uri": "https://localhost:8080/"
        },
        "id": "oI-DE_9EzKdT",
        "outputId": "2301b94a-273b-4f1e-9e76-f583abf9a10f"
      },
      "execution_count": null,
      "outputs": [
        {
          "output_type": "stream",
          "name": "stdout",
          "text": [
            "(801, 8001)\n"
          ]
        }
      ]
    },
    {
      "cell_type": "code",
      "source": [
        "#let's check some of the columns (first, second and third columns)\n",
        "print(dataframe.columns[0:3])"
      ],
      "metadata": {
        "colab": {
          "base_uri": "https://localhost:8080/"
        },
        "id": "FxXIohUxzKgJ",
        "outputId": "2f986e83-0d0c-4ebf-fb59-21ba7b9526c9"
      },
      "execution_count": null,
      "outputs": [
        {
          "output_type": "stream",
          "name": "stdout",
          "text": [
            "Index(['gene_1', 'gene_2', 'gene_3'], dtype='object')\n"
          ]
        }
      ]
    },
    {
      "cell_type": "code",
      "source": [
        "#lets check the name of the last column of this dataframe\n",
        "\n",
        "dataframe.columns[-1]"
      ],
      "metadata": {
        "colab": {
          "base_uri": "https://localhost:8080/",
          "height": 36
        },
        "id": "3_YbDMfOzKi_",
        "outputId": "f9a6ce01-cf35-4318-ffdf-03ff6af7c5ae"
      },
      "execution_count": null,
      "outputs": [
        {
          "output_type": "execute_result",
          "data": {
            "text/plain": [
              "'Cancer_Type'"
            ],
            "application/vnd.google.colaboratory.intrinsic+json": {
              "type": "string"
            }
          },
          "metadata": {},
          "execution_count": 84
        }
      ]
    },
    {
      "cell_type": "code",
      "source": [
        "#check for missing values\n",
        "datanul=dataframe.isnull().sum()\n",
        "g=[i for i in datanul if i>0]\n",
        "\n",
        "print('columns with missing values:%d'%len(g))"
      ],
      "metadata": {
        "colab": {
          "base_uri": "https://localhost:8080/"
        },
        "id": "GYLIZFMJzKlr",
        "outputId": "0e2525b3-a386-4318-d690-3cbfc039b336"
      },
      "execution_count": null,
      "outputs": [
        {
          "output_type": "stream",
          "name": "stdout",
          "text": [
            "columns with missing values:0\n"
          ]
        }
      ]
    },
    {
      "cell_type": "code",
      "source": [
        "#let's check how many different cancer types are there in the data\n",
        "#note: in this tutorial the cancer types will be referred to as classes or labels\n",
        "\n",
        "print(dataframe['Cancer_Type'].value_counts())"
      ],
      "metadata": {
        "colab": {
          "base_uri": "https://localhost:8080/"
        },
        "id": "B87LEQM3zKo_",
        "outputId": "961392b4-b438-4e86-b5c6-587bfe468fc1"
      },
      "execution_count": null,
      "outputs": [
        {
          "output_type": "stream",
          "name": "stdout",
          "text": [
            "Cancer_Type\n",
            "BRCA    300\n",
            "KIRC    146\n",
            "LUAD    141\n",
            "PRAD    136\n",
            "COAD     78\n",
            "Name: count, dtype: int64\n"
          ]
        }
      ]
    },
    {
      "cell_type": "code",
      "source": [
        "#plot a bar chat to display the class distribution\n",
        "\n",
        "dataframe['Cancer_Type'].value_counts().plot.bar()"
      ],
      "metadata": {
        "colab": {
          "base_uri": "https://localhost:8080/",
          "height": 493
        },
        "id": "Uwl12PYnzKsh",
        "outputId": "17f1e9c9-17a7-48a9-aafd-64ebe20b3b64"
      },
      "execution_count": null,
      "outputs": [
        {
          "output_type": "execute_result",
          "data": {
            "text/plain": [
              "<Axes: xlabel='Cancer_Type'>"
            ]
          },
          "metadata": {},
          "execution_count": 87
        },
        {
          "output_type": "display_data",
          "data": {
            "text/plain": [
              "<Figure size 640x480 with 1 Axes>"
            ],
            "image/png": "[encoded data removed]"
          },
          "metadata": {}
        }
      ]
    },
    {
      "cell_type": "code",
      "source": [
        "#we will now seperate the feature values from the class. we do this because scikit-learn requires that features and class are separated before parsing them to the classifiers.\n",
        "\n",
        "X=dataframe.iloc[:,0:-1]\n",
        "y=dataframe.iloc[:,-1]"
      ],
      "metadata": {
        "id": "-_HnXuVIzvwX"
      },
      "execution_count": null,
      "outputs": []
    },
    {
      "cell_type": "code",
      "source": [
        "X.shape"
      ],
      "metadata": {
        "colab": {
          "base_uri": "https://localhost:8080/"
        },
        "id": "NagTvuSpzvzF",
        "outputId": "fa8899a5-c43c-4d1f-ffbe-37aecdffb114"
      },
      "execution_count": null,
      "outputs": [
        {
          "output_type": "execute_result",
          "data": {
            "text/plain": [
              "(801, 8000)"
            ]
          },
          "metadata": {},
          "execution_count": 89
        }
      ]
    },
    {
      "cell_type": "code",
      "source": [
        "y.shape"
      ],
      "metadata": {
        "colab": {
          "base_uri": "https://localhost:8080/"
        },
        "id": "itOx2ILUzv10",
        "outputId": "ff3d2dca-6c9d-4d11-a055-86c58a0fd14f"
      },
      "execution_count": null,
      "outputs": [
        {
          "output_type": "execute_result",
          "data": {
            "text/plain": [
              "(801,)"
            ]
          },
          "metadata": {},
          "execution_count": 90
        }
      ]
    },
    {
      "cell_type": "code",
      "source": [
        "#let's encode target labels (y) with values between 0 and n_classes-1.\n",
        "#encoding will be done using the LabelEncoder\n",
        "label_encoder=LabelEncoder()\n",
        "label_encoder.fit(y)\n",
        "y_encoded=label_encoder.transform(y)\n",
        "labels=label_encoder.classes_\n",
        "classes=np.unique(y_encoded)"
      ],
      "metadata": {
        "id": "ipLz7Whszv4p"
      },
      "execution_count": null,
      "outputs": []
    },
    {
      "cell_type": "code",
      "source": [
        "labels"
      ],
      "metadata": {
        "colab": {
          "base_uri": "https://localhost:8080/"
        },
        "id": "fGjUdAH-zv7W",
        "outputId": "fc8f3be6-f53c-4a7e-9a3d-e4f4fe9e913c"
      },
      "execution_count": null,
      "outputs": [
        {
          "output_type": "execute_result",
          "data": {
            "text/plain": [
              "array(['BRCA', 'COAD', 'KIRC', 'LUAD', 'PRAD'], dtype=object)"
            ]
          },
          "metadata": {},
          "execution_count": 92
        }
      ]
    },
    {
      "cell_type": "code",
      "source": [
        "classes"
      ],
      "metadata": {
        "colab": {
          "base_uri": "https://localhost:8080/"
        },
        "id": "QMCHMpryzv99",
        "outputId": "74ee2bbc-fc76-4d32-ec63-95e18f87b3c7"
      },
      "execution_count": null,
      "outputs": [
        {
          "output_type": "execute_result",
          "data": {
            "text/plain": [
              "array([0, 1, 2, 3, 4])"
            ]
          },
          "metadata": {},
          "execution_count": 93
        }
      ]
    },
    {
      "cell_type": "code",
      "source": [
        "#split data into training and test sets\n",
        "X_train,X_test,y_train,y_test=train_test_split(X,y_encoded,test_size=0.2,random_state=42)"
      ],
      "metadata": {
        "id": "cctF33mlzwA4"
      },
      "execution_count": null,
      "outputs": []
    },
    {
      "cell_type": "code",
      "source": [
        "dataframe.iloc[:,0:10].describe()"
      ],
      "metadata": {
        "colab": {
          "base_uri": "https://localhost:8080/",
          "height": 300
        },
        "id": "PKRR-BDyzwDm",
        "outputId": "bd869c69-abc4-4c7d-94cc-8b654bdd7ca9"
      },
      "execution_count": null,
      "outputs": [
        {
          "output_type": "execute_result",
          "data": {
            "text/plain": [
              "           gene_1      gene_2      gene_3      gene_4      gene_5      gene_6  \\\n",
              "count  801.000000  801.000000  801.000000  801.000000  801.000000  801.000000   \n",
              "mean     0.026642    0.231049    0.010844    2.405459    0.005799    0.065640   \n",
              "std      0.136850    0.656692    0.153859    0.797236    0.052265    0.213557   \n",
              "min      0.000000    0.000000    0.000000    0.000000    0.000000    0.000000   \n",
              "25%      0.000000    0.000000    0.000000    1.898595    0.000000    0.000000   \n",
              "50%      0.000000    0.000000    0.000000    2.358284    0.000000    0.000000   \n",
              "75%      0.000000    0.000000    0.000000    2.929355    0.000000    0.000000   \n",
              "max      1.482332    6.575004    3.778061    4.746646    0.570754    1.866275   \n",
              "\n",
              "           gene_7      gene_8      gene_9     gene_10  \n",
              "count  801.000000  801.000000  801.000000  801.000000  \n",
              "mean     0.022036    0.028394    0.703998    1.916364  \n",
              "std      0.148917    0.161606    0.779321    0.877010  \n",
              "min      0.000000    0.000000    0.000000    0.000000  \n",
              "25%      0.000000    0.000000    0.000000    1.357214  \n",
              "50%      0.000000    0.000000    0.518031    1.877862  \n",
              "75%      0.000000    0.000000    1.123931    2.486792  \n",
              "max      2.169925    2.375957    4.541670    4.932231  "
            ],
            "text/html": [
              "\n",
              "  <div id=\"df-717bb387-f35e-42d0-ae16-8f137159c3c5\" class=\"colab-df-container\">\n",
              "    <div>\n",
              "<style scoped>\n",
              "    .dataframe tbody tr th:only-of-type {\n",
              "        vertical-align: middle;\n",
              "    }\n",
              "\n",
              "    .dataframe tbody tr th {\n",
              "        vertical-align: top;\n",
              "    }\n",
              "\n",
              "    .dataframe thead th {\n",
              "        text-align: right;\n",
              "    }\n",
              "</style>\n",
              "<table border=\"1\" class=\"dataframe\">\n",
              "  <thead>\n",
              "    <tr style=\"text-align: right;\">\n",
              "      <th></th>\n",
              "      <th>gene_1</th>\n",
              "      <th>gene_2</th>\n",
              "      <th>gene_3</th>\n",
              "      <th>gene_4</th>\n",
              "      <th>gene_5</th>\n",
              "      <th>gene_6</th>\n",
              "      <th>gene_7</th>\n",
              "      <th>gene_8</th>\n",
              "      <th>gene_9</th>\n",
              "      <th>gene_10</th>\n",
              "    </tr>\n",
              "  </thead>\n",
              "  <tbody>\n",
              "    <tr>\n",
              "      <th>count</th>\n",
              "      <td>801.000000</td>\n",
              "      <td>801.000000</td>\n",
              "      <td>801.000000</td>\n",
              "      <td>801.000000</td>\n",
              "      <td>801.000000</td>\n",
              "      <td>801.000000</td>\n",
              "      <td>801.000000</td>\n",
              "      <td>801.000000</td>\n",
              "      <td>801.000000</td>\n",
              "      <td>801.000000</td>\n",
              "    </tr>\n",
              "    <tr>\n",
              "      <th>mean</th>\n",
              "      <td>0.026642</td>\n",
              "      <td>0.231049</td>\n",
              "      <td>0.010844</td>\n",
              "      <td>2.405459</td>\n",
              "      <td>0.005799</td>\n",
              "      <td>0.065640</td>\n",
              "      <td>0.022036</td>\n",
              "      <td>0.028394</td>\n",
              "      <td>0.703998</td>\n",
              "      <td>1.916364</td>\n",
              "    </tr>\n",
              "    <tr>\n",
              "      <th>std</th>\n",
              "      <td>0.136850</td>\n",
              "      <td>0.656692</td>\n",
              "      <td>0.153859</td>\n",
              "      <td>0.797236</td>\n",
              "      <td>0.052265</td>\n",
              "      <td>0.213557</td>\n",
              "      <td>0.148917</td>\n",
              "      <td>0.161606</td>\n",
              "      <td>0.779321</td>\n",
              "      <td>0.877010</td>\n",
              "    </tr>\n",
              "    <tr>\n",
              "      <th>min</th>\n",
              "      <td>0.000000</td>\n",
              "      <td>0.000000</td>\n",
              "      <td>0.000000</td>\n",
              "      <td>0.000000</td>\n",
              "      <td>0.000000</td>\n",
              "      <td>0.000000</td>\n",
              "      <td>0.000000</td>\n",
              "      <td>0.000000</td>\n",
              "      <td>0.000000</td>\n",
              "      <td>0.000000</td>\n",
              "    </tr>\n",
              "    <tr>\n",
              "      <th>25%</th>\n",
              "      <td>0.000000</td>\n",
              "      <td>0.000000</td>\n",
              "      <td>0.000000</td>\n",
              "      <td>1.898595</td>\n",
              "      <td>0.000000</td>\n",
              "      <td>0.000000</td>\n",
              "      <td>0.000000</td>\n",
              "      <td>0.000000</td>\n",
              "      <td>0.000000</td>\n",
              "      <td>1.357214</td>\n",
              "    </tr>\n",
              "    <tr>\n",
              "      <th>50%</th>\n",
              "      <td>0.000000</td>\n",
              "      <td>0.000000</td>\n",
              "      <td>0.000000</td>\n",
              "      <td>2.358284</td>\n",
              "      <td>0.000000</td>\n",
              "      <td>0.000000</td>\n",
              "      <td>0.000000</td>\n",
              "      <td>0.000000</td>\n",
              "      <td>0.518031</td>\n",
              "      <td>1.877862</td>\n",
              "    </tr>\n",
              "    <tr>\n",
              "      <th>75%</th>\n",
              "      <td>0.000000</td>\n",
              "      <td>0.000000</td>\n",
              "      <td>0.000000</td>\n",
              "      <td>2.929355</td>\n",
              "      <td>0.000000</td>\n",
              "      <td>0.000000</td>\n",
              "      <td>0.000000</td>\n",
              "      <td>0.000000</td>\n",
              "      <td>1.123931</td>\n",
              "      <td>2.486792</td>\n",
              "    </tr>\n",
              "    <tr>\n",
              "      <th>max</th>\n",
              "      <td>1.482332</td>\n",
              "      <td>6.575004</td>\n",
              "      <td>3.778061</td>\n",
              "      <td>4.746646</td>\n",
              "      <td>0.570754</td>\n",
              "      <td>1.866275</td>\n",
              "      <td>2.169925</td>\n",
              "      <td>2.375957</td>\n",
              "      <td>4.541670</td>\n",
              "      <td>4.932231</td>\n",
              "    </tr>\n",
              "  </tbody>\n",
              "</table>\n",
              "</div>\n",
              "    <div class=\"colab-df-buttons\">\n",
              "\n",
              "  <div class=\"colab-df-container\">\n",
              "    <button class=\"colab-df-convert\" onclick=\"convertToInteractive('df-717bb387-f35e-42d0-ae16-8f137159c3c5')\"\n",
              "            title=\"Convert this dataframe to an interactive table.\"\n",
              "            style=\"display:none;\">\n",
              "\n",
              "  <svg xmlns=\"http://www.w3.org/2000/svg\" height=\"24px\" viewBox=\"0 -960 960 960\">\n",
              "    <path d=\"M120-120v-720h720v720H120Zm60-500h600v-160H180v160Zm220 220h160v-160H400v160Zm0 220h160v-160H400v160ZM180-400h160v-160H180v160Zm440 0h160v-160H620v160ZM180-180h160v-160H180v160Zm440 0h160v-160H620v160Z\"/>\n",
              "  </svg>\n",
              "    </button>\n",
              "\n",
              "  <style>\n",
              "    .colab-df-container {\n",
              "      display:flex;\n",
              "      gap: 12px;\n",
              "    }\n",
              "\n",
              "    .colab-df-convert {\n",
              "      background-color: #E8F0FE;\n",
              "      border: none;\n",
              "      border-radius: 50%;\n",
              "      cursor: pointer;\n",
              "      display: none;\n",
              "      fill: #1967D2;\n",
              "      height: 32px;\n",
              "      padding: 0 0 0 0;\n",
              "      width: 32px;\n",
              "    }\n",
              "\n",
              "    .colab-df-convert:hover {\n",
              "      background-color: #E2EBFA;\n",
              "      box-shadow: 0px 1px 2px rgba(60, 64, 67, 0.3), 0px 1px 3px 1px rgba(60, 64, 67, 0.15);\n",
              "      fill: #174EA6;\n",
              "    }\n",
              "\n",
              "    .colab-df-buttons div {\n",
              "      margin-bottom: 4px;\n",
              "    }\n",
              "\n",
              "    [theme=dark] .colab-df-convert {\n",
              "      background-color: #3B4455;\n",
              "      fill: #D2E3FC;\n",
              "    }\n",
              "\n",
              "    [theme=dark] .colab-df-convert:hover {\n",
              "      background-color: #434B5C;\n",
              "      box-shadow: 0px 1px 3px 1px rgba(0, 0, 0, 0.15);\n",
              "      filter: drop-shadow(0px 1px 2px rgba(0, 0, 0, 0.3));\n",
              "      fill: #FFFFFF;\n",
              "    }\n",
              "  </style>\n",
              "\n",
              "    <script>\n",
              "      const buttonEl =\n",
              "        document.querySelector('#df-717bb387-f35e-42d0-ae16-8f137159c3c5 button.colab-df-convert');\n",
              "      buttonEl.style.display =\n",
              "        google.colab.kernel.accessAllowed ? 'block' : 'none';\n",
              "\n",
              "      async function convertToInteractive(key) {\n",
              "        const element = document.querySelector('#df-717bb387-f35e-42d0-ae16-8f137159c3c5');\n",
              "        const dataTable =\n",
              "          await google.colab.kernel.invokeFunction('convertToInteractive',\n",
              "                                                    [key], {});\n",
              "        if (!dataTable) return;\n",
              "\n",
              "        const docLinkHtml = 'Like what you see? Visit the ' +\n",
              "          '<a target=\"_blank\" href=https://colab.research.google.com/notebooks/data_table.ipynb>data table notebook</a>'\n",
              "          + ' to learn more about interactive tables.';\n",
              "        element.innerHTML = '';\n",
              "        dataTable['output_type'] = 'display_data';\n",
              "        await google.colab.output.renderOutput(dataTable, element);\n",
              "        const docLink = document.createElement('div');\n",
              "        docLink.innerHTML = docLinkHtml;\n",
              "        element.appendChild(docLink);\n",
              "      }\n",
              "    </script>\n",
              "  </div>\n",
              "\n",
              "\n",
              "<div id=\"df-298347d2-5997-4cff-9abb-4b5b8fdfecc7\">\n",
              "  <button class=\"colab-df-quickchart\" onclick=\"quickchart('df-298347d2-5997-4cff-9abb-4b5b8fdfecc7')\"\n",
              "            title=\"Suggest charts\"\n",
              "            style=\"display:none;\">\n",
              "\n",
              "<svg xmlns=\"http://www.w3.org/2000/svg\" height=\"24px\"viewBox=\"0 0 24 24\"\n",
              "     width=\"24px\">\n",
              "    <g>\n",
              "        <path d=\"M19 3H5c-1.1 0-2 .9-2 2v14c0 1.1.9 2 2 2h14c1.1 0 2-.9 2-2V5c0-1.1-.9-2-2-2zM9 17H7v-7h2v7zm4 0h-2V7h2v10zm4 0h-2v-4h2v4z\"/>\n",
              "    </g>\n",
              "</svg>\n",
              "  </button>\n",
              "\n",
              "<style>\n",
              "  .colab-df-quickchart {\n",
              "      --bg-color: #E8F0FE;\n",
              "      --fill-color: #1967D2;\n",
              "      --hover-bg-color: #E2EBFA;\n",
              "      --hover-fill-color: #174EA6;\n",
              "      --disabled-fill-color: #AAA;\n",
              "      --disabled-bg-color: #DDD;\n",
              "  }\n",
              "\n",
              "  [theme=dark] .colab-df-quickchart {\n",
              "      --bg-color: #3B4455;\n",
              "      --fill-color: #D2E3FC;\n",
              "      --hover-bg-color: #434B5C;\n",
              "      --hover-fill-color: #FFFFFF;\n",
              "      --disabled-bg-color: #3B4455;\n",
              "      --disabled-fill-color: #666;\n",
              "  }\n",
              "\n",
              "  .colab-df-quickchart {\n",
              "    background-color: var(--bg-color);\n",
              "    border: none;\n",
              "    border-radius: 50%;\n",
              "    cursor: pointer;\n",
              "    display: none;\n",
              "    fill: var(--fill-color);\n",
              "    height: 32px;\n",
              "    padding: 0;\n",
              "    width: 32px;\n",
              "  }\n",
              "\n",
              "  .colab-df-quickchart:hover {\n",
              "    background-color: var(--hover-bg-color);\n",
              "    box-shadow: 0 1px 2px rgba(60, 64, 67, 0.3), 0 1px 3px 1px rgba(60, 64, 67, 0.15);\n",
              "    fill: var(--button-hover-fill-color);\n",
              "  }\n",
              "\n",
              "  .colab-df-quickchart-complete:disabled,\n",
              "  .colab-df-quickchart-complete:disabled:hover {\n",
              "    background-color: var(--disabled-bg-color);\n",
              "    fill: var(--disabled-fill-color);\n",
              "    box-shadow: none;\n",
              "  }\n",
              "\n",
              "  .colab-df-spinner {\n",
              "    border: 2px solid var(--fill-color);\n",
              "    border-color: transparent;\n",
              "    border-bottom-color: var(--fill-color);\n",
              "    animation:\n",
              "      spin 1s steps(1) infinite;\n",
              "  }\n",
              "\n",
              "  @keyframes spin {\n",
              "    0% {\n",
              "      border-color: transparent;\n",
              "      border-bottom-color: var(--fill-color);\n",
              "      border-left-color: var(--fill-color);\n",
              "    }\n",
              "    20% {\n",
              "      border-color: transparent;\n",
              "      border-left-color: var(--fill-color);\n",
              "      border-top-color: var(--fill-color);\n",
              "    }\n",
              "    30% {\n",
              "      border-color: transparent;\n",
              "      border-left-color: var(--fill-color);\n",
              "      border-top-color: var(--fill-color);\n",
              "      border-right-color: var(--fill-color);\n",
              "    }\n",
              "    40% {\n",
              "      border-color: transparent;\n",
              "      border-right-color: var(--fill-color);\n",
              "      border-top-color: var(--fill-color);\n",
              "    }\n",
              "    60% {\n",
              "      border-color: transparent;\n",
              "      border-right-color: var(--fill-color);\n",
              "    }\n",
              "    80% {\n",
              "      border-color: transparent;\n",
              "      border-right-color: var(--fill-color);\n",
              "      border-bottom-color: var(--fill-color);\n",
              "    }\n",
              "    90% {\n",
              "      border-color: transparent;\n",
              "      border-bottom-color: var(--fill-color);\n",
              "    }\n",
              "  }\n",
              "</style>\n",
              "\n",
              "  <script>\n",
              "    async function quickchart(key) {\n",
              "      const quickchartButtonEl =\n",
              "        document.querySelector('#' + key + ' button');\n",
              "      quickchartButtonEl.disabled = true;  // To prevent multiple clicks.\n",
              "      quickchartButtonEl.classList.add('colab-df-spinner');\n",
              "      try {\n",
              "        const charts = await google.colab.kernel.invokeFunction(\n",
              "            'suggestCharts', [key], {});\n",
              "      } catch (error) {\n",
              "        console.error('Error during call to suggestCharts:', error);\n",
              "      }\n",
              "      quickchartButtonEl.classList.remove('colab-df-spinner');\n",
              "      quickchartButtonEl.classList.add('colab-df-quickchart-complete');\n",
              "    }\n",
              "    (() => {\n",
              "      let quickchartButtonEl =\n",
              "        document.querySelector('#df-298347d2-5997-4cff-9abb-4b5b8fdfecc7 button');\n",
              "      quickchartButtonEl.style.display =\n",
              "        google.colab.kernel.accessAllowed ? 'block' : 'none';\n",
              "    })();\n",
              "  </script>\n",
              "</div>\n",
              "\n",
              "    </div>\n",
              "  </div>\n"
            ],
            "application/vnd.google.colaboratory.intrinsic+json": {
              "type": "dataframe",
              "summary": "{\n  \"name\": \"dataframe\",\n  \"rows\": 8,\n  \"fields\": [\n    {\n      \"column\": \"gene_1\",\n      \"properties\": {\n        \"dtype\": \"number\",\n        \"std\": 283.11360089443195,\n        \"min\": 0.0,\n        \"max\": 801.0,\n        \"num_unique_values\": 5,\n        \"samples\": [\n          0.026641551206685394,\n          1.48233202075,\n          0.13684952015251203\n        ],\n        \"semantic_type\": \"\",\n        \"description\": \"\"\n      }\n    },\n    {\n      \"column\": \"gene_2\",\n      \"properties\": {\n        \"dtype\": \"number\",\n        \"std\": 282.82837153150757,\n        \"min\": 0.0,\n        \"max\": 801.0,\n        \"num_unique_values\": 5,\n        \"samples\": [\n          0.23104873127019224,\n          6.57500366744,\n          0.6566918201605328\n        ],\n        \"semantic_type\": \"\",\n        \"description\": \"\"\n      }\n    },\n    {\n      \"column\": \"gene_3\",\n      \"properties\": {\n        \"dtype\": \"number\",\n        \"std\": 283.00017436223027,\n        \"min\": 0.0,\n        \"max\": 801.0,\n        \"num_unique_values\": 5,\n        \"samples\": [\n          0.010843739319982521,\n          3.77806135511,\n          0.15385915385938467\n        ],\n        \"semantic_type\": \"\",\n        \"description\": \"\"\n      }\n    },\n    {\n      \"column\": \"gene_4\",\n      \"properties\": {\n        \"dtype\": \"number\",\n        \"std\": 282.43533777830004,\n        \"min\": 0.0,\n        \"max\": 801.0,\n        \"num_unique_values\": 8,\n        \"samples\": [\n          2.4054587469393756,\n          2.35828372285,\n          801.0\n        ],\n        \"semantic_type\": \"\",\n        \"description\": \"\"\n      }\n    },\n    {\n      \"column\": \"gene_5\",\n      \"properties\": {\n        \"dtype\": \"number\",\n        \"std\": 283.16457434996664,\n        \"min\": 0.0,\n        \"max\": 801.0,\n        \"num_unique_values\": 5,\n        \"samples\": [\n          0.005799231612901373,\n          0.570754355134,\n          0.05226504799177911\n        ],\n        \"semantic_type\": \"\",\n        \"description\": \"\"\n      }\n    },\n    {\n      \"column\": \"gene_6\",\n      \"properties\": {\n        \"dtype\": \"number\",\n        \"std\": 283.08862865521473,\n        \"min\": 0.0,\n        \"max\": 801.0,\n        \"num_unique_values\": 5,\n        \"samples\": [\n          0.0656399415371523,\n          1.86627499158,\n          0.21355722197272464\n        ],\n        \"semantic_type\": \"\",\n        \"description\": \"\"\n      }\n    },\n    {\n      \"column\": \"gene_7\",\n      \"properties\": {\n        \"dtype\": \"number\",\n        \"std\": 283.0790299233124,\n        \"min\": 0.0,\n        \"max\": 801.0,\n        \"num_unique_values\": 5,\n        \"samples\": [\n          0.022036429781465666,\n          2.16992500144,\n          0.14891745025382072\n        ],\n        \"semantic_type\": \"\",\n        \"description\": \"\"\n      }\n    },\n    {\n      \"column\": \"gene_8\",\n      \"properties\": {\n        \"dtype\": \"number\",\n        \"std\": 283.06785937615047,\n        \"min\": 0.0,\n        \"max\": 801.0,\n        \"num_unique_values\": 5,\n        \"samples\": [\n          0.028394259385249684,\n          2.37595690218,\n          0.16160636266305306\n        ],\n        \"semantic_type\": \"\",\n        \"description\": \"\"\n      }\n    },\n    {\n      \"column\": \"gene_9\",\n      \"properties\": {\n        \"dtype\": \"number\",\n        \"std\": 282.8127804569991,\n        \"min\": 0.0,\n        \"max\": 801.0,\n        \"num_unique_values\": 7,\n        \"samples\": [\n          801.0,\n          0.7039978780096168,\n          1.12393100832\n        ],\n        \"semantic_type\": \"\",\n        \"description\": \"\"\n      }\n    },\n    {\n      \"column\": \"gene_10\",\n      \"properties\": {\n        \"dtype\": \"number\",\n        \"std\": 282.5207287506082,\n        \"min\": 0.0,\n        \"max\": 801.0,\n        \"num_unique_values\": 8,\n        \"samples\": [\n          1.9163641201925807,\n          1.87786201617,\n          801.0\n        ],\n        \"semantic_type\": \"\",\n        \"description\": \"\"\n      }\n    }\n  ]\n}"
            }
          },
          "metadata": {},
          "execution_count": 95
        }
      ]
    },
    {
      "cell_type": "code",
      "source": [
        "# scale data between 0 and 1\n",
        "\n",
        "min_max_scaler=MinMaxScaler()\n",
        "X_train_norm=min_max_scaler.fit_transform(X_train)\n",
        "X_test_norm=min_max_scaler.fit_transform(X_test)"
      ],
      "metadata": {
        "id": "P4aFYy2CzwG1"
      },
      "execution_count": null,
      "outputs": []
    },
    {
      "cell_type": "code",
      "source": [
        "MI=mutual_info_classif(X_train_norm,y_train)"
      ],
      "metadata": {
        "id": "BcoNRnti0GYJ"
      },
      "execution_count": null,
      "outputs": []
    },
    {
      "cell_type": "code",
      "source": [
        "#select top n features. lets say 300.\n",
        "#you can modify the value and see how the performance of the model changes\n",
        "\n",
        "n_features=300\n",
        "selected_scores_indices=np.argsort(MI)[::-1][0:n_features]"
      ],
      "metadata": {
        "id": "sbA4PXZ20GbJ"
      },
      "execution_count": null,
      "outputs": []
    },
    {
      "cell_type": "code",
      "source": [
        "X_train_selected=X_train_norm[:,selected_scores_indices]\n",
        "X_test_selected=X_test_norm[:,selected_scores_indices]"
      ],
      "metadata": {
        "id": "udwbNMWE0GeA"
      },
      "execution_count": null,
      "outputs": []
    },
    {
      "cell_type": "code",
      "source": [
        "X_train_selected.shape"
      ],
      "metadata": {
        "colab": {
          "base_uri": "https://localhost:8080/"
        },
        "id": "I6nlnfif0Ggw",
        "outputId": "c7a309db-fa37-4e9f-c5e1-f2f2d9ba0174"
      },
      "execution_count": null,
      "outputs": [
        {
          "output_type": "execute_result",
          "data": {
            "text/plain": [
              "(640, 300)"
            ]
          },
          "metadata": {},
          "execution_count": 100
        }
      ]
    },
    {
      "cell_type": "code",
      "source": [
        "X_test_selected.shape"
      ],
      "metadata": {
        "colab": {
          "base_uri": "https://localhost:8080/"
        },
        "id": "1p-ggE-j0GjQ",
        "outputId": "84c7fadf-22f1-4724-cabb-a78db2834b4b"
      },
      "execution_count": null,
      "outputs": [
        {
          "output_type": "execute_result",
          "data": {
            "text/plain": [
              "(161, 300)"
            ]
          },
          "metadata": {},
          "execution_count": 101
        }
      ]
    },
    {
      "cell_type": "code",
      "source": [
        "#Random Forest Classifier\n",
        "#because we are dealing with multiclass data, the one versus rest strategy is used.\n",
        "#learn to predict each class against the other.\n",
        "\n",
        "RF=OneVsRestClassifier(RandomForestClassifier(max_features=0.2))\n",
        "RF.fit(X_train_selected,y_train)\n",
        "y_pred =RF.predict(X_test_selected)\n",
        "pred_prob = RF.predict_proba(X_test_selected)"
      ],
      "metadata": {
        "id": "ygVfcplx0GmY"
      },
      "execution_count": null,
      "outputs": []
    },
    {
      "cell_type": "code",
      "source": [
        "#accuracy\n",
        "accuracy=np.round(balanced_accuracy_score(y_test,y_pred),4)\n",
        "print('accuracy:%0.4f'%accuracy)\n",
        "\n",
        "#precision\n",
        "precision=np.round(precision_score(y_test,y_pred,average = 'weighted'),4)\n",
        "print('precision:%0.4f'%precision)\n",
        "\n",
        "#recall\n",
        "recall=np.round(recall_score(y_test,y_pred,average = 'weighted'),4)\n",
        "print('recall:%0.4f'%recall)\n",
        "\n",
        "#f1score\n",
        "f1score=np.round(f1_score(y_test,y_pred,average = 'weighted'),4)\n",
        "print('f1score:%0.4f'%f1score)\n",
        "\n",
        "\n",
        "report=classification_report(y_test,y_pred, target_names=labels)\n",
        "print('\\n')\n",
        "print('classification report\\n\\n')\n",
        "print(report)"
      ],
      "metadata": {
        "colab": {
          "base_uri": "https://localhost:8080/"
        },
        "id": "1yx-naCD0GpU",
        "outputId": "8248ae8f-432e-40e0-9397-ef81e0b4d947"
      },
      "execution_count": null,
      "outputs": [
        {
          "output_type": "stream",
          "name": "stdout",
          "text": [
            "accuracy:0.9708\n",
            "precision:0.9815\n",
            "recall:0.9814\n",
            "f1score:0.9812\n",
            "\n",
            "\n",
            "classification report\n",
            "\n",
            "\n",
            "              precision    recall  f1-score   support\n",
            "\n",
            "        BRCA       0.97      1.00      0.98        60\n",
            "        COAD       1.00      0.94      0.97        16\n",
            "        KIRC       1.00      1.00      1.00        28\n",
            "        LUAD       0.96      0.92      0.94        24\n",
            "        PRAD       1.00      1.00      1.00        33\n",
            "\n",
            "    accuracy                           0.98       161\n",
            "   macro avg       0.98      0.97      0.98       161\n",
            "weighted avg       0.98      0.98      0.98       161\n",
            "\n"
          ]
        }
      ]
    },
    {
      "cell_type": "code",
      "source": [
        "#generate confusion matrix\n",
        "cm=confusion_matrix(y_test,y_pred)\n",
        "cm_df=pd.DataFrame(cm,index=labels,columns=labels)"
      ],
      "metadata": {
        "id": "GXteHd_10W9x"
      },
      "execution_count": null,
      "outputs": []
    },
    {
      "cell_type": "code",
      "source": [
        "cm_df"
      ],
      "metadata": {
        "colab": {
          "base_uri": "https://localhost:8080/",
          "height": 206
        },
        "id": "sAAjqye50XBW",
        "outputId": "86b7836a-d209-4d26-a760-d810399dd4d0"
      },
      "execution_count": null,
      "outputs": [
        {
          "output_type": "execute_result",
          "data": {
            "text/plain": [
              "      BRCA  COAD  KIRC  LUAD  PRAD\n",
              "BRCA    60     0     0     0     0\n",
              "COAD     0    15     0     1     0\n",
              "KIRC     0     0    28     0     0\n",
              "LUAD     2     0     0    22     0\n",
              "PRAD     0     0     0     0    33"
            ],
            "text/html": [
              "\n",
              "  <div id=\"df-2ee874b2-a921-4198-9a3e-c1572cf9d0fb\" class=\"colab-df-container\">\n",
              "    <div>\n",
              "<style scoped>\n",
              "    .dataframe tbody tr th:only-of-type {\n",
              "        vertical-align: middle;\n",
              "    }\n",
              "\n",
              "    .dataframe tbody tr th {\n",
              "        vertical-align: top;\n",
              "    }\n",
              "\n",
              "    .dataframe thead th {\n",
              "        text-align: right;\n",
              "    }\n",
              "</style>\n",
              "<table border=\"1\" class=\"dataframe\">\n",
              "  <thead>\n",
              "    <tr style=\"text-align: right;\">\n",
              "      <th></th>\n",
              "      <th>BRCA</th>\n",
              "      <th>COAD</th>\n",
              "      <th>KIRC</th>\n",
              "      <th>LUAD</th>\n",
              "      <th>PRAD</th>\n",
              "    </tr>\n",
              "  </thead>\n",
              "  <tbody>\n",
              "    <tr>\n",
              "      <th>BRCA</th>\n",
              "      <td>60</td>\n",
              "      <td>0</td>\n",
              "      <td>0</td>\n",
              "      <td>0</td>\n",
              "      <td>0</td>\n",
              "    </tr>\n",
              "    <tr>\n",
              "      <th>COAD</th>\n",
              "      <td>0</td>\n",
              "      <td>15</td>\n",
              "      <td>0</td>\n",
              "      <td>1</td>\n",
              "      <td>0</td>\n",
              "    </tr>\n",
              "    <tr>\n",
              "      <th>KIRC</th>\n",
              "      <td>0</td>\n",
              "      <td>0</td>\n",
              "      <td>28</td>\n",
              "      <td>0</td>\n",
              "      <td>0</td>\n",
              "    </tr>\n",
              "    <tr>\n",
              "      <th>LUAD</th>\n",
              "      <td>2</td>\n",
              "      <td>0</td>\n",
              "      <td>0</td>\n",
              "      <td>22</td>\n",
              "      <td>0</td>\n",
              "    </tr>\n",
              "    <tr>\n",
              "      <th>PRAD</th>\n",
              "      <td>0</td>\n",
              "      <td>0</td>\n",
              "      <td>0</td>\n",
              "      <td>0</td>\n",
              "      <td>33</td>\n",
              "    </tr>\n",
              "  </tbody>\n",
              "</table>\n",
              "</div>\n",
              "    <div class=\"colab-df-buttons\">\n",
              "\n",
              "  <div class=\"colab-df-container\">\n",
              "    <button class=\"colab-df-convert\" onclick=\"convertToInteractive('df-2ee874b2-a921-4198-9a3e-c1572cf9d0fb')\"\n",
              "            title=\"Convert this dataframe to an interactive table.\"\n",
              "            style=\"display:none;\">\n",
              "\n",
              "  <svg xmlns=\"http://www.w3.org/2000/svg\" height=\"24px\" viewBox=\"0 -960 960 960\">\n",
              "    <path d=\"M120-120v-720h720v720H120Zm60-500h600v-160H180v160Zm220 220h160v-160H400v160Zm0 220h160v-160H400v160ZM180-400h160v-160H180v160Zm440 0h160v-160H620v160ZM180-180h160v-160H180v160Zm440 0h160v-160H620v160Z\"/>\n",
              "  </svg>\n",
              "    </button>\n",
              "\n",
              "  <style>\n",
              "    .colab-df-container {\n",
              "      display:flex;\n",
              "      gap: 12px;\n",
              "    }\n",
              "\n",
              "    .colab-df-convert {\n",
              "      background-color: #E8F0FE;\n",
              "      border: none;\n",
              "      border-radius: 50%;\n",
              "      cursor: pointer;\n",
              "      display: none;\n",
              "      fill: #1967D2;\n",
              "      height: 32px;\n",
              "      padding: 0 0 0 0;\n",
              "      width: 32px;\n",
              "    }\n",
              "\n",
              "    .colab-df-convert:hover {\n",
              "      background-color: #E2EBFA;\n",
              "      box-shadow: 0px 1px 2px rgba(60, 64, 67, 0.3), 0px 1px 3px 1px rgba(60, 64, 67, 0.15);\n",
              "      fill: #174EA6;\n",
              "    }\n",
              "\n",
              "    .colab-df-buttons div {\n",
              "      margin-bottom: 4px;\n",
              "    }\n",
              "\n",
              "    [theme=dark] .colab-df-convert {\n",
              "      background-color: #3B4455;\n",
              "      fill: #D2E3FC;\n",
              "    }\n",
              "\n",
              "    [theme=dark] .colab-df-convert:hover {\n",
              "      background-color: #434B5C;\n",
              "      box-shadow: 0px 1px 3px 1px rgba(0, 0, 0, 0.15);\n",
              "      filter: drop-shadow(0px 1px 2px rgba(0, 0, 0, 0.3));\n",
              "      fill: #FFFFFF;\n",
              "    }\n",
              "  </style>\n",
              "\n",
              "    <script>\n",
              "      const buttonEl =\n",
              "        document.querySelector('#df-2ee874b2-a921-4198-9a3e-c1572cf9d0fb button.colab-df-convert');\n",
              "      buttonEl.style.display =\n",
              "        google.colab.kernel.accessAllowed ? 'block' : 'none';\n",
              "\n",
              "      async function convertToInteractive(key) {\n",
              "        const element = document.querySelector('#df-2ee874b2-a921-4198-9a3e-c1572cf9d0fb');\n",
              "        const dataTable =\n",
              "          await google.colab.kernel.invokeFunction('convertToInteractive',\n",
              "                                                    [key], {});\n",
              "        if (!dataTable) return;\n",
              "\n",
              "        const docLinkHtml = 'Like what you see? Visit the ' +\n",
              "          '<a target=\"_blank\" href=https://colab.research.google.com/notebooks/data_table.ipynb>data table notebook</a>'\n",
              "          + ' to learn more about interactive tables.';\n",
              "        element.innerHTML = '';\n",
              "        dataTable['output_type'] = 'display_data';\n",
              "        await google.colab.output.renderOutput(dataTable, element);\n",
              "        const docLink = document.createElement('div');\n",
              "        docLink.innerHTML = docLinkHtml;\n",
              "        element.appendChild(docLink);\n",
              "      }\n",
              "    </script>\n",
              "  </div>\n",
              "\n",
              "\n",
              "<div id=\"df-bd28bd19-e134-4977-aa71-8ac663ff90e0\">\n",
              "  <button class=\"colab-df-quickchart\" onclick=\"quickchart('df-bd28bd19-e134-4977-aa71-8ac663ff90e0')\"\n",
              "            title=\"Suggest charts\"\n",
              "            style=\"display:none;\">\n",
              "\n",
              "<svg xmlns=\"http://www.w3.org/2000/svg\" height=\"24px\"viewBox=\"0 0 24 24\"\n",
              "     width=\"24px\">\n",
              "    <g>\n",
              "        <path d=\"M19 3H5c-1.1 0-2 .9-2 2v14c0 1.1.9 2 2 2h14c1.1 0 2-.9 2-2V5c0-1.1-.9-2-2-2zM9 17H7v-7h2v7zm4 0h-2V7h2v10zm4 0h-2v-4h2v4z\"/>\n",
              "    </g>\n",
              "</svg>\n",
              "  </button>\n",
              "\n",
              "<style>\n",
              "  .colab-df-quickchart {\n",
              "      --bg-color: #E8F0FE;\n",
              "      --fill-color: #1967D2;\n",
              "      --hover-bg-color: #E2EBFA;\n",
              "      --hover-fill-color: #174EA6;\n",
              "      --disabled-fill-color: #AAA;\n",
              "      --disabled-bg-color: #DDD;\n",
              "  }\n",
              "\n",
              "  [theme=dark] .colab-df-quickchart {\n",
              "      --bg-color: #3B4455;\n",
              "      --fill-color: #D2E3FC;\n",
              "      --hover-bg-color: #434B5C;\n",
              "      --hover-fill-color: #FFFFFF;\n",
              "      --disabled-bg-color: #3B4455;\n",
              "      --disabled-fill-color: #666;\n",
              "  }\n",
              "\n",
              "  .colab-df-quickchart {\n",
              "    background-color: var(--bg-color);\n",
              "    border: none;\n",
              "    border-radius: 50%;\n",
              "    cursor: pointer;\n",
              "    display: none;\n",
              "    fill: var(--fill-color);\n",
              "    height: 32px;\n",
              "    padding: 0;\n",
              "    width: 32px;\n",
              "  }\n",
              "\n",
              "  .colab-df-quickchart:hover {\n",
              "    background-color: var(--hover-bg-color);\n",
              "    box-shadow: 0 1px 2px rgba(60, 64, 67, 0.3), 0 1px 3px 1px rgba(60, 64, 67, 0.15);\n",
              "    fill: var(--button-hover-fill-color);\n",
              "  }\n",
              "\n",
              "  .colab-df-quickchart-complete:disabled,\n",
              "  .colab-df-quickchart-complete:disabled:hover {\n",
              "    background-color: var(--disabled-bg-color);\n",
              "    fill: var(--disabled-fill-color);\n",
              "    box-shadow: none;\n",
              "  }\n",
              "\n",
              "  .colab-df-spinner {\n",
              "    border: 2px solid var(--fill-color);\n",
              "    border-color: transparent;\n",
              "    border-bottom-color: var(--fill-color);\n",
              "    animation:\n",
              "      spin 1s steps(1) infinite;\n",
              "  }\n",
              "\n",
              "  @keyframes spin {\n",
              "    0% {\n",
              "      border-color: transparent;\n",
              "      border-bottom-color: var(--fill-color);\n",
              "      border-left-color: var(--fill-color);\n",
              "    }\n",
              "    20% {\n",
              "      border-color: transparent;\n",
              "      border-left-color: var(--fill-color);\n",
              "      border-top-color: var(--fill-color);\n",
              "    }\n",
              "    30% {\n",
              "      border-color: transparent;\n",
              "      border-left-color: var(--fill-color);\n",
              "      border-top-color: var(--fill-color);\n",
              "      border-right-color: var(--fill-color);\n",
              "    }\n",
              "    40% {\n",
              "      border-color: transparent;\n",
              "      border-right-color: var(--fill-color);\n",
              "      border-top-color: var(--fill-color);\n",
              "    }\n",
              "    60% {\n",
              "      border-color: transparent;\n",
              "      border-right-color: var(--fill-color);\n",
              "    }\n",
              "    80% {\n",
              "      border-color: transparent;\n",
              "      border-right-color: var(--fill-color);\n",
              "      border-bottom-color: var(--fill-color);\n",
              "    }\n",
              "    90% {\n",
              "      border-color: transparent;\n",
              "      border-bottom-color: var(--fill-color);\n",
              "    }\n",
              "  }\n",
              "</style>\n",
              "\n",
              "  <script>\n",
              "    async function quickchart(key) {\n",
              "      const quickchartButtonEl =\n",
              "        document.querySelector('#' + key + ' button');\n",
              "      quickchartButtonEl.disabled = true;  // To prevent multiple clicks.\n",
              "      quickchartButtonEl.classList.add('colab-df-spinner');\n",
              "      try {\n",
              "        const charts = await google.colab.kernel.invokeFunction(\n",
              "            'suggestCharts', [key], {});\n",
              "      } catch (error) {\n",
              "        console.error('Error during call to suggestCharts:', error);\n",
              "      }\n",
              "      quickchartButtonEl.classList.remove('colab-df-spinner');\n",
              "      quickchartButtonEl.classList.add('colab-df-quickchart-complete');\n",
              "    }\n",
              "    (() => {\n",
              "      let quickchartButtonEl =\n",
              "        document.querySelector('#df-bd28bd19-e134-4977-aa71-8ac663ff90e0 button');\n",
              "      quickchartButtonEl.style.display =\n",
              "        google.colab.kernel.accessAllowed ? 'block' : 'none';\n",
              "    })();\n",
              "  </script>\n",
              "</div>\n",
              "\n",
              "  <div id=\"id_48b9fd22-e605-46b9-99d8-e7784fc3be6a\">\n",
              "    <style>\n",
              "      .colab-df-generate {\n",
              "        background-color: #E8F0FE;\n",
              "        border: none;\n",
              "        border-radius: 50%;\n",
              "        cursor: pointer;\n",
              "        display: none;\n",
              "        fill: #1967D2;\n",
              "        height: 32px;\n",
              "        padding: 0 0 0 0;\n",
              "        width: 32px;\n",
              "      }\n",
              "\n",
              "      .colab-df-generate:hover {\n",
              "        background-color: #E2EBFA;\n",
              "        box-shadow: 0px 1px 2px rgba(60, 64, 67, 0.3), 0px 1px 3px 1px rgba(60, 64, 67, 0.15);\n",
              "        fill: #174EA6;\n",
              "      }\n",
              "\n",
              "      [theme=dark] .colab-df-generate {\n",
              "        background-color: #3B4455;\n",
              "        fill: #D2E3FC;\n",
              "      }\n",
              "\n",
              "      [theme=dark] .colab-df-generate:hover {\n",
              "        background-color: #434B5C;\n",
              "        box-shadow: 0px 1px 3px 1px rgba(0, 0, 0, 0.15);\n",
              "        filter: drop-shadow(0px 1px 2px rgba(0, 0, 0, 0.3));\n",
              "        fill: #FFFFFF;\n",
              "      }\n",
              "    </style>\n",
              "    <button class=\"colab-df-generate\" onclick=\"generateWithVariable('cm_df')\"\n",
              "            title=\"Generate code using this dataframe.\"\n",
              "            style=\"display:none;\">\n",
              "\n",
              "  <svg xmlns=\"http://www.w3.org/2000/svg\" height=\"24px\"viewBox=\"0 0 24 24\"\n",
              "       width=\"24px\">\n",
              "    <path d=\"M7,19H8.4L18.45,9,17,7.55,7,17.6ZM5,21V16.75L18.45,3.32a2,2,0,0,1,2.83,0l1.4,1.43a1.91,1.91,0,0,1,.58,1.4,1.91,1.91,0,0,1-.58,1.4L9.25,21ZM18.45,9,17,7.55Zm-12,3A5.31,5.31,0,0,0,4.9,8.1,5.31,5.31,0,0,0,1,6.5,5.31,5.31,0,0,0,4.9,4.9,5.31,5.31,0,0,0,6.5,1,5.31,5.31,0,0,0,8.1,4.9,5.31,5.31,0,0,0,12,6.5,5.46,5.46,0,0,0,6.5,12Z\"/>\n",
              "  </svg>\n",
              "    </button>\n",
              "    <script>\n",
              "      (() => {\n",
              "      const buttonEl =\n",
              "        document.querySelector('#id_48b9fd22-e605-46b9-99d8-e7784fc3be6a button.colab-df-generate');\n",
              "      buttonEl.style.display =\n",
              "        google.colab.kernel.accessAllowed ? 'block' : 'none';\n",
              "\n",
              "      buttonEl.onclick = () => {\n",
              "        google.colab.notebook.generateWithVariable('cm_df');\n",
              "      }\n",
              "      })();\n",
              "    </script>\n",
              "  </div>\n",
              "\n",
              "    </div>\n",
              "  </div>\n"
            ],
            "application/vnd.google.colaboratory.intrinsic+json": {
              "type": "dataframe",
              "variable_name": "cm_df",
              "summary": "{\n  \"name\": \"cm_df\",\n  \"rows\": 5,\n  \"fields\": [\n    {\n      \"column\": \"BRCA\",\n      \"properties\": {\n        \"dtype\": \"number\",\n        \"std\": 26,\n        \"min\": 0,\n        \"max\": 60,\n        \"num_unique_values\": 3,\n        \"samples\": [\n          60,\n          0,\n          2\n        ],\n        \"semantic_type\": \"\",\n        \"description\": \"\"\n      }\n    },\n    {\n      \"column\": \"COAD\",\n      \"properties\": {\n        \"dtype\": \"number\",\n        \"std\": 6,\n        \"min\": 0,\n        \"max\": 15,\n        \"num_unique_values\": 2,\n        \"samples\": [\n          15,\n          0\n        ],\n        \"semantic_type\": \"\",\n        \"description\": \"\"\n      }\n    },\n    {\n      \"column\": \"KIRC\",\n      \"properties\": {\n        \"dtype\": \"number\",\n        \"std\": 12,\n        \"min\": 0,\n        \"max\": 28,\n        \"num_unique_values\": 2,\n        \"samples\": [\n          28,\n          0\n        ],\n        \"semantic_type\": \"\",\n        \"description\": \"\"\n      }\n    },\n    {\n      \"column\": \"LUAD\",\n      \"properties\": {\n        \"dtype\": \"number\",\n        \"std\": 9,\n        \"min\": 0,\n        \"max\": 22,\n        \"num_unique_values\": 3,\n        \"samples\": [\n          0,\n          1\n        ],\n        \"semantic_type\": \"\",\n        \"description\": \"\"\n      }\n    },\n    {\n      \"column\": \"PRAD\",\n      \"properties\": {\n        \"dtype\": \"number\",\n        \"std\": 14,\n        \"min\": 0,\n        \"max\": 33,\n        \"num_unique_values\": 2,\n        \"samples\": [\n          33,\n          0\n        ],\n        \"semantic_type\": \"\",\n        \"description\": \"\"\n      }\n    }\n  ]\n}"
            }
          },
          "metadata": {},
          "execution_count": 105
        }
      ]
    },
    {
      "cell_type": "code",
      "source": [
        "#visualize the confusion matrix using seaborn\n",
        "\n",
        "sns.heatmap(cm_df,annot=True,cmap='Blues')\n",
        "plt.xlabel('Predicted Labels')\n",
        "plt.ylabel('True Labels')"
      ],
      "metadata": {
        "colab": {
          "base_uri": "https://localhost:8080/",
          "height": 472
        },
        "id": "HdGPea3i0XEr",
        "outputId": "3fa3a666-4aa1-44ce-fbb4-78db3513ff17"
      },
      "execution_count": null,
      "outputs": [
        {
          "output_type": "execute_result",
          "data": {
            "text/plain": [
              "Text(50.722222222222214, 0.5, 'True Labels')"
            ]
          },
          "metadata": {},
          "execution_count": 106
        },
        {
          "output_type": "display_data",
          "data": {
            "text/plain": [
              "<Figure size 640x480 with 2 Axes>"
            ],
            "image/png": "[encoded data removed]"
          },
          "metadata": {}
        }
      ]
    },
    {
      "cell_type": "code",
      "source": [
        "#visualize the confusion matrix directly\n",
        "disp=ConfusionMatrixDisplay.from_estimator(RF,X_test_selected,y_test,xticks_rotation='vertical',\n",
        "                     cmap='Blues',display_labels=labels)"
      ],
      "metadata": {
        "colab": {
          "base_uri": "https://localhost:8080/",
          "height": 482
        },
        "id": "KskuX6dl0XHp",
        "outputId": "e75b35b3-90ab-48e1-a1b5-d25d33f64b30"
      },
      "execution_count": null,
      "outputs": [
        {
          "output_type": "display_data",
          "data": {
            "text/plain": [
              "<Figure size 640x480 with 2 Axes>"
            ],
            "image/png": "[encoded data removed]"
          },
          "metadata": {}
        }
      ]
    },
    {
      "cell_type": "code",
      "source": [
        "print(sklearn.__version__)"
      ],
      "metadata": {
        "colab": {
          "base_uri": "https://localhost:8080/"
        },
        "id": "Az-EVuoh8mpi",
        "outputId": "7b34bce7-b23d-4f92-aead-754a9db8f3d0"
      },
      "execution_count": null,
      "outputs": [
        {
          "output_type": "stream",
          "name": "stdout",
          "text": [
            "1.5.2\n"
          ]
        }
      ]
    },
    {
      "cell_type": "code",
      "source": [
        "#roc curves will be generated for each class\n",
        "#we will therefore have to binarize the y_test labels\n",
        "#this is done because the probabilities(pred_prob) are calculated for each each class\n",
        "#we therefore need to put the y_test label in the same format as the pred_prob\n",
        "y_test_binarized=label_binarize(y_test,classes=classes)\n",
        "\n",
        "# roc curve for classes\n",
        "fpr = {}\n",
        "tpr = {}\n",
        "thresh ={}\n",
        "roc_auc = dict()\n",
        "\n",
        "n_class = classes.shape[0]\n",
        "\n",
        "for i in range(n_class):\n",
        "    fpr[i], tpr[i], thresh[i] = roc_curve(y_test_binarized[:,i], pred_prob[:,i])\n",
        "    roc_auc[i] = auc(fpr[i], tpr[i])\n",
        "\n",
        "    # plotting\n",
        "    plt.plot(fpr[i], tpr[i], linestyle='--',\n",
        "             label='%s vs Rest (AUC=%0.2f)'%(labels[i],roc_auc[i]))\n",
        "\n",
        "plt.plot([0,1],[0,1],'b--')\n",
        "plt.xlim([0,1])\n",
        "plt.ylim([0,1.05])\n",
        "plt.title('Multiclass ROC curve')\n",
        "plt.xlabel('False Positive Rate')\n",
        "plt.ylabel('True Positive rate')\n",
        "plt.legend(loc='lower right')\n",
        "plt.show()"
      ],
      "metadata": {
        "colab": {
          "base_uri": "https://localhost:8080/",
          "height": 472
        },
        "id": "dldZEX0-0XKg",
        "outputId": "f4621e91-f59f-427a-ad01-e4ab318683e6"
      },
      "execution_count": null,
      "outputs": [
        {
          "output_type": "display_data",
          "data": {
            "text/plain": [
              "<Figure size 640x480 with 1 Axes>"
            ],
            "image/png": "[encoded data removed]"
          },
          "metadata": {}
        }
      ]
    }
  ]
}